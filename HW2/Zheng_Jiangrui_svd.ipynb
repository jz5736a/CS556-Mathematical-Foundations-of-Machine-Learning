{
 "cells": [
  {
   "cell_type": "code",
   "execution_count": 3,
   "metadata": {},
   "outputs": [],
   "source": [
    "import pandas as pd\n",
    "import numpy as np\n",
    "import matplotlib.pyplot as plt"
   ]
  },
  {
   "cell_type": "markdown",
   "metadata": {},
   "source": [
    "Load data"
   ]
  },
  {
   "cell_type": "code",
   "execution_count": 4,
   "metadata": {},
   "outputs": [
    {
     "data": {
      "text/plain": [
       "array([[-0.42344517,  0.55665609, -0.24102467,  0.3305458 , -0.24562245],\n",
       "       [-0.50699337, -0.47790996, -0.16495257,  0.37953185,  0.58331032],\n",
       "       [-0.37335489,  0.50609813, -0.19182881, -0.4734306 ,  0.385749  ],\n",
       "       [-0.34447683,  0.12820357,  0.63388605,  0.41223622, -0.23721861],\n",
       "       [-0.42422527, -0.40791144, -0.38601146, -0.2525886 , -0.62705737],\n",
       "       [-0.35443853, -0.15090679,  0.57191179, -0.53741866,  0.033805  ]])"
      ]
     },
     "execution_count": 4,
     "metadata": {},
     "output_type": "execute_result"
    }
   ],
   "source": [
    "U = np.load('U.npy')\n",
    "U"
   ]
  },
  {
   "cell_type": "code",
   "execution_count": 5,
   "metadata": {},
   "outputs": [
    {
     "data": {
      "text/plain": [
       "array([13.2663997 ,  7.31094493,  4.68971622,  0.89013458,  0.51666749])"
      ]
     },
     "execution_count": 5,
     "metadata": {},
     "output_type": "execute_result"
    }
   ],
   "source": [
    "S = np.load('S.npy')\n",
    "S"
   ]
  },
  {
   "cell_type": "code",
   "execution_count": 6,
   "metadata": {},
   "outputs": [
    {
     "data": {
      "text/plain": [
       "array([[-0.35720733, -0.41849995, -0.66295151, -0.44991101, -0.23523627],\n",
       "       [ 0.58989124,  0.53832973, -0.23397095, -0.4730836 , -0.2892731 ],\n",
       "       [-0.16497259,  0.05617741,  0.14276305,  0.34480327, -0.91123957],\n",
       "       [ 0.41157588, -0.10910113, -0.62130363,  0.65416345,  0.06895084],\n",
       "       [ 0.57255619, -0.72111021,  0.31520375, -0.16417331, -0.16085148]])"
      ]
     },
     "execution_count": 6,
     "metadata": {},
     "output_type": "execute_result"
    }
   ],
   "source": [
    "V = np.load('V.npy')\n",
    "V"
   ]
  },
  {
   "cell_type": "markdown",
   "metadata": {},
   "source": [
    "# (a)"
   ]
  },
  {
   "cell_type": "code",
   "execution_count": 7,
   "metadata": {},
   "outputs": [
    {
     "data": {
      "text/plain": [
       "array([-0.42344517,  0.55665609, -0.24102467,  0.3305458 , -0.24562245])"
      ]
     },
     "execution_count": 7,
     "metadata": {},
     "output_type": "execute_result"
    }
   ],
   "source": [
    "U_user1 = U[0,:]\n",
    "U_user1"
   ]
  },
  {
   "cell_type": "code",
   "execution_count": 8,
   "metadata": {},
   "outputs": [
    {
     "data": {
      "text/plain": [
       "array([-0.44991101, -0.4730836 ,  0.34480327,  0.65416345, -0.16417331])"
      ]
     },
     "execution_count": 8,
     "metadata": {},
     "output_type": "execute_result"
    }
   ],
   "source": [
    "V_Amelie = np.transpose(V[:,3])\n",
    "V_Amelie"
   ]
  },
  {
   "cell_type": "code",
   "execution_count": 9,
   "metadata": {},
   "outputs": [
    {
     "data": {
      "text/plain": [
       "array([[13.2663997 ,  0.        ,  0.        ,  0.        ,  0.        ],\n",
       "       [ 0.        ,  7.31094493,  0.        ,  0.        ,  0.        ],\n",
       "       [ 0.        ,  0.        ,  4.68971622,  0.        ,  0.        ],\n",
       "       [ 0.        ,  0.        ,  0.        ,  0.89013458,  0.        ],\n",
       "       [ 0.        ,  0.        ,  0.        ,  0.        ,  0.51666749]])"
      ]
     },
     "execution_count": 9,
     "metadata": {},
     "output_type": "execute_result"
    }
   ],
   "source": [
    "S_diag = np.diag(S)\n",
    "S_diag"
   ]
  },
  {
   "cell_type": "code",
   "execution_count": 21,
   "metadata": {},
   "outputs": [
    {
     "data": {
      "text/plain": [
       "0.4256821525055139"
      ]
     },
     "execution_count": 21,
     "metadata": {},
     "output_type": "execute_result"
    }
   ],
   "source": [
    "#R_User1 = U_user1 @ S_diag @ V_Amelie\n",
    "R_User1 =np.dot(np.dot(U_user1,S_diag),V_Amelie)\n",
    "R_User1"
   ]
  },
  {
   "cell_type": "markdown",
   "metadata": {},
   "source": [
    "So user 1’s ‘estimated’ rating of the movie Amelie is 0.4256821525055139."
   ]
  },
  {
   "cell_type": "markdown",
   "metadata": {},
   "source": [
    "# (b)"
   ]
  },
  {
   "cell_type": "markdown",
   "metadata": {},
   "source": [
    "The “strength” of the concept is given by the magnitude of the values in the SVD diagonal matrix.\n",
    "And if you arrange it in decreasing order of the strength, the first element has the highest strength."
   ]
  },
  {
   "cell_type": "markdown",
   "metadata": {},
   "source": [
    "The strength will be 13.2663997."
   ]
  },
  {
   "cell_type": "markdown",
   "metadata": {},
   "source": [
    "# (c)"
   ]
  },
  {
   "cell_type": "code",
   "execution_count": 11,
   "metadata": {},
   "outputs": [
    {
     "data": {
      "text/plain": [
       "array([-0.66295151, -0.23397095,  0.14276305, -0.62130363,  0.31520375])"
      ]
     },
     "execution_count": 11,
     "metadata": {},
     "output_type": "execute_result"
    }
   ],
   "source": [
    "V_Movie3 = V[:,2]\n",
    "V_Movie3"
   ]
  },
  {
   "cell_type": "code",
   "execution_count": 12,
   "metadata": {},
   "outputs": [
    {
     "data": {
      "text/plain": [
       "array([2.38782659, 5.05114346, 2.6141595 , 2.96814942, 4.20793614,\n",
       "       4.06103988])"
      ]
     },
     "execution_count": 12,
     "metadata": {},
     "output_type": "execute_result"
    }
   ],
   "source": [
    "R_Movie3 = U @ S_diag @ V_Movie3\n",
    "R_Movie3"
   ]
  },
  {
   "cell_type": "code",
   "execution_count": 13,
   "metadata": {},
   "outputs": [
    {
     "data": {
      "text/plain": [
       "3.451653705"
      ]
     },
     "execution_count": 13,
     "metadata": {},
     "output_type": "execute_result"
    }
   ],
   "source": [
    "# actual ratings of user2, 4, 6 exist\n",
    "R_average3 = (2.38782659 + 2.5 + 2.6141595 + 4.5 + 4.20793614 + 4.5)/6\n",
    "R_average3"
   ]
  },
  {
   "cell_type": "markdown",
   "metadata": {},
   "source": [
    "So the average rating for Movie 3 across all users in the system is 3.5483758311270606"
   ]
  },
  {
   "cell_type": "markdown",
   "metadata": {},
   "source": [
    "# (d)"
   ]
  },
  {
   "cell_type": "code",
   "execution_count": 14,
   "metadata": {},
   "outputs": [
    {
     "data": {
      "text/plain": [
       "array([[ 4.64222751,  4.53770548,  2.38782659,  0.42568215,  1.21492044],\n",
       "       [ 0.78072353,  0.6362689 ,  5.05114346,  4.5838201 ,  3.27264048],\n",
       "       [ 4.04098583,  3.91643009,  2.6141595 , -0.14058136,  0.85347279],\n",
       "       [ 1.77575468,  2.63245029,  2.96814942,  2.8978389 , -1.85997836],\n",
       "       [ 0.27177039,  0.90633516,  4.20793614,  3.22482782,  3.87278406],\n",
       "       [ 0.39946186,  1.5641847 ,  4.06103988,  3.24647193, -1.05457648]])"
      ]
     },
     "execution_count": 14,
     "metadata": {},
     "output_type": "execute_result"
    }
   ],
   "source": [
    "R_all = U @ S_diag @ V\n",
    "R_all"
   ]
  },
  {
   "cell_type": "code",
   "execution_count": 15,
   "metadata": {},
   "outputs": [
    {
     "data": {
      "text/plain": [
       "2.1593233450000002"
      ]
     },
     "execution_count": 15,
     "metadata": {},
     "output_type": "execute_result"
    }
   ],
   "source": [
    "R_average1 = (5 + 0.78072353 + 4 + 1.77575468 + 1 + 0.39946186)/6\n",
    "R_average1"
   ]
  },
  {
   "cell_type": "code",
   "execution_count": 16,
   "metadata": {},
   "outputs": [
    {
     "data": {
      "text/plain": [
       "2.267798126666667"
      ]
     },
     "execution_count": 16,
     "metadata": {},
     "output_type": "execute_result"
    }
   ],
   "source": [
    "R_average2 = (4.5 + 0.6362689  + 4.5 + 1.5 + 0.90633516 + 1.5641847)/6\n",
    "R_average2"
   ]
  },
  {
   "cell_type": "code",
   "execution_count": 17,
   "metadata": {},
   "outputs": [
    {
     "data": {
      "text/plain": [
       "3.451653705"
      ]
     },
     "execution_count": 17,
     "metadata": {},
     "output_type": "execute_result"
    }
   ],
   "source": [
    "R_average3"
   ]
  },
  {
   "cell_type": "code",
   "execution_count": 18,
   "metadata": {},
   "outputs": [
    {
     "data": {
      "text/plain": [
       "1.9049019366666669"
      ]
     },
     "execution_count": 18,
     "metadata": {},
     "output_type": "execute_result"
    }
   ],
   "source": [
    "R_average4 = (0.42568215 + 5  -0.14058136 + 2.8978389 + 0 + 3.24647193)/6\n",
    "R_average4"
   ]
  },
  {
   "cell_type": "code",
   "execution_count": 19,
   "metadata": {},
   "outputs": [
    {
     "data": {
      "text/plain": [
       "1.4898196583333334"
      ]
     },
     "execution_count": 19,
     "metadata": {},
     "output_type": "execute_result"
    }
   ],
   "source": [
    "R_average5 = (1 + 5  + 0.85347279 -1.85997836 + 5 -1.05457648)/6\n",
    "R_average5"
   ]
  },
  {
   "cell_type": "markdown",
   "metadata": {},
   "source": [
    "The movie with the overall highest rating is Harry Potter"
   ]
  },
  {
   "cell_type": "code",
   "execution_count": null,
   "metadata": {},
   "outputs": [],
   "source": []
  }
 ],
 "metadata": {
  "kernelspec": {
   "display_name": "Python 3",
   "language": "python",
   "name": "python3"
  },
  "language_info": {
   "codemirror_mode": {
    "name": "ipython",
    "version": 3
   },
   "file_extension": ".py",
   "mimetype": "text/x-python",
   "name": "python",
   "nbconvert_exporter": "python",
   "pygments_lexer": "ipython3",
   "version": "3.7.4"
  }
 },
 "nbformat": 4,
 "nbformat_minor": 2
}
