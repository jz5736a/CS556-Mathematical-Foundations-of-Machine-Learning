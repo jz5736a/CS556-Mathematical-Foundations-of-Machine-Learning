{
 "cells": [
  {
   "cell_type": "code",
   "execution_count": 54,
   "metadata": {},
   "outputs": [],
   "source": [
    "import matplotlib.pyplot as plt\n",
    "import numpy as np\n",
    "import pandas as pd\n",
    "import seaborn as sns\n",
    "import warnings\n",
    "warnings.filterwarnings('ignore')"
   ]
  },
  {
   "cell_type": "markdown",
   "metadata": {},
   "source": [
    "# b.\tData Loading / Preprocessing"
   ]
  },
  {
   "cell_type": "markdown",
   "metadata": {},
   "source": [
    "i.\tLoading (4 points)\n",
    "1.\tLoad the data <df_train.csv> and <df_test.csv> as a pandas dataframe using the ‘pandas.read_csv’ function. The ‘df_test.csv’ has been preprocessed (I.e., null values have been dropped, certain columns etc. have been dropped) and should not be changed apart from splitting the the dataframe into X_test and y_test. The ‘df_train’ data has NOT been preprocessed and you will need to preprocess and prepare the ‘df_train’ dataframe. Note: Neither df_train nor df_test have been scaled.  The next few steps will enumerate data preprocessing, scaling requirements we need to perform.\n",
    "\n",
    "2.\tThe resulting dataframe (i.e., df_train) should have the shape (712,12) indicating that there are 712 instances and 12 columns. \n",
    "\n",
    "3.\tIn df_train, dataframe, currently you have 12 columns which are the following – PassengerID, Pclass, Name, Sex, Age, SibSp, Parch, Ticket, Fare, Cabin, Embarked and the Survived column (target variable).\n",
    "\n",
    "4.\tUse the ‘pandas.isnull().sum()’ function check if there are any missing values in the df_train dataframe. Report which columns have missing (i.e., null) values and provide the number of the null values in the columns.\n",
    "5.\tUse the ‘pandas.DataFrame.drop()’ function to drop the ‘Cabin’, ‘PassengerID’, ‘Name’ and ‘Ticket’ columns.\n",
    "\n",
    "6.\tUse the ‘pandas.DataFrame.fillna()’ function to replace the NA values in the ‘Age’ column with the mean value of the ‘Age’ column. Note: This process is called `imputation` (i.e., filling null values with a pre-specified value) and we are employing one strategy called mean imputation, but other strategies can also be employed in general. Use the ‘dropna()’ function to drop any remaining rows that consist of NA values. \n",
    "\n",
    "7.\tYour task is to use the feature columns to predict the target column. This can be cast as a classification problem. \n",
    "\n",
    "8.\tCreate a pandas dataframe X_train of features (by dropping the ‘Survival’ column from the df_train dataframe). Create a pandas Series object of targets y_train (by only considering the ‘Survival’ column from the df_train dataframe). Moving forward, we will be working with X_train and y_train. At this point also split the df_test into X_test and y_test by dropping the ‘Survival’ column and storing the features into X_test. Store the ‘Survival’ column in y_test.\n",
    "\n"
   ]
  },
  {
   "cell_type": "code",
   "execution_count": 55,
   "metadata": {},
   "outputs": [],
   "source": [
    "df_train=pd.read_csv('df_train.csv', na_values= \"\")\n",
    "df_test=pd.read_csv('df_test.csv')"
   ]
  },
  {
   "cell_type": "code",
   "execution_count": 56,
   "metadata": {},
   "outputs": [
    {
     "data": {
      "text/plain": [
       "(712, 12)"
      ]
     },
     "execution_count": 56,
     "metadata": {},
     "output_type": "execute_result"
    }
   ],
   "source": [
    "df_train.shape"
   ]
  },
  {
   "cell_type": "code",
   "execution_count": 57,
   "metadata": {},
   "outputs": [
    {
     "data": {
      "text/plain": [
       "PassengerId      int64\n",
       "Pclass           int64\n",
       "Name            object\n",
       "Sex             object\n",
       "Age            float64\n",
       "SibSp            int64\n",
       "Parch            int64\n",
       "Ticket          object\n",
       "Fare           float64\n",
       "Cabin           object\n",
       "Embarked        object\n",
       "Survived         int64\n",
       "dtype: object"
      ]
     },
     "execution_count": 57,
     "metadata": {},
     "output_type": "execute_result"
    }
   ],
   "source": [
    "df_train.dtypes"
   ]
  },
  {
   "cell_type": "code",
   "execution_count": 58,
   "metadata": {},
   "outputs": [
    {
     "data": {
      "text/plain": [
       "PassengerId      0\n",
       "Pclass           0\n",
       "Name             0\n",
       "Sex              0\n",
       "Age            138\n",
       "SibSp            0\n",
       "Parch            0\n",
       "Ticket           0\n",
       "Fare             0\n",
       "Cabin          541\n",
       "Embarked         2\n",
       "Survived         0\n",
       "dtype: int64"
      ]
     },
     "execution_count": 58,
     "metadata": {},
     "output_type": "execute_result"
    }
   ],
   "source": [
    "df_train.isnull().sum()"
   ]
  },
  {
   "cell_type": "code",
   "execution_count": 59,
   "metadata": {},
   "outputs": [
    {
     "data": {
      "text/html": [
       "<div>\n",
       "<style scoped>\n",
       "    .dataframe tbody tr th:only-of-type {\n",
       "        vertical-align: middle;\n",
       "    }\n",
       "\n",
       "    .dataframe tbody tr th {\n",
       "        vertical-align: top;\n",
       "    }\n",
       "\n",
       "    .dataframe thead th {\n",
       "        text-align: right;\n",
       "    }\n",
       "</style>\n",
       "<table border=\"1\" class=\"dataframe\">\n",
       "  <thead>\n",
       "    <tr style=\"text-align: right;\">\n",
       "      <th></th>\n",
       "      <th>Pclass</th>\n",
       "      <th>Sex</th>\n",
       "      <th>Age</th>\n",
       "      <th>SibSp</th>\n",
       "      <th>Parch</th>\n",
       "      <th>Fare</th>\n",
       "      <th>Embarked</th>\n",
       "      <th>Survived</th>\n",
       "    </tr>\n",
       "  </thead>\n",
       "  <tbody>\n",
       "    <tr>\n",
       "      <th>0</th>\n",
       "      <td>1</td>\n",
       "      <td>male</td>\n",
       "      <td>NaN</td>\n",
       "      <td>0</td>\n",
       "      <td>0</td>\n",
       "      <td>30.5000</td>\n",
       "      <td>S</td>\n",
       "      <td>1</td>\n",
       "    </tr>\n",
       "    <tr>\n",
       "      <th>1</th>\n",
       "      <td>3</td>\n",
       "      <td>female</td>\n",
       "      <td>27.0</td>\n",
       "      <td>0</td>\n",
       "      <td>2</td>\n",
       "      <td>11.1333</td>\n",
       "      <td>S</td>\n",
       "      <td>1</td>\n",
       "    </tr>\n",
       "    <tr>\n",
       "      <th>2</th>\n",
       "      <td>2</td>\n",
       "      <td>male</td>\n",
       "      <td>NaN</td>\n",
       "      <td>0</td>\n",
       "      <td>0</td>\n",
       "      <td>0.0000</td>\n",
       "      <td>S</td>\n",
       "      <td>0</td>\n",
       "    </tr>\n",
       "    <tr>\n",
       "      <th>3</th>\n",
       "      <td>3</td>\n",
       "      <td>female</td>\n",
       "      <td>9.0</td>\n",
       "      <td>4</td>\n",
       "      <td>2</td>\n",
       "      <td>31.2750</td>\n",
       "      <td>S</td>\n",
       "      <td>0</td>\n",
       "    </tr>\n",
       "    <tr>\n",
       "      <th>4</th>\n",
       "      <td>1</td>\n",
       "      <td>female</td>\n",
       "      <td>48.0</td>\n",
       "      <td>1</td>\n",
       "      <td>0</td>\n",
       "      <td>39.6000</td>\n",
       "      <td>C</td>\n",
       "      <td>1</td>\n",
       "    </tr>\n",
       "    <tr>\n",
       "      <th>...</th>\n",
       "      <td>...</td>\n",
       "      <td>...</td>\n",
       "      <td>...</td>\n",
       "      <td>...</td>\n",
       "      <td>...</td>\n",
       "      <td>...</td>\n",
       "      <td>...</td>\n",
       "      <td>...</td>\n",
       "    </tr>\n",
       "    <tr>\n",
       "      <th>707</th>\n",
       "      <td>3</td>\n",
       "      <td>male</td>\n",
       "      <td>19.0</td>\n",
       "      <td>0</td>\n",
       "      <td>0</td>\n",
       "      <td>14.5000</td>\n",
       "      <td>S</td>\n",
       "      <td>0</td>\n",
       "    </tr>\n",
       "    <tr>\n",
       "      <th>708</th>\n",
       "      <td>2</td>\n",
       "      <td>male</td>\n",
       "      <td>18.0</td>\n",
       "      <td>0</td>\n",
       "      <td>0</td>\n",
       "      <td>11.5000</td>\n",
       "      <td>S</td>\n",
       "      <td>0</td>\n",
       "    </tr>\n",
       "    <tr>\n",
       "      <th>709</th>\n",
       "      <td>1</td>\n",
       "      <td>male</td>\n",
       "      <td>17.0</td>\n",
       "      <td>0</td>\n",
       "      <td>2</td>\n",
       "      <td>110.8833</td>\n",
       "      <td>C</td>\n",
       "      <td>1</td>\n",
       "    </tr>\n",
       "    <tr>\n",
       "      <th>710</th>\n",
       "      <td>3</td>\n",
       "      <td>male</td>\n",
       "      <td>28.5</td>\n",
       "      <td>0</td>\n",
       "      <td>0</td>\n",
       "      <td>7.2292</td>\n",
       "      <td>C</td>\n",
       "      <td>0</td>\n",
       "    </tr>\n",
       "    <tr>\n",
       "      <th>711</th>\n",
       "      <td>3</td>\n",
       "      <td>female</td>\n",
       "      <td>20.0</td>\n",
       "      <td>0</td>\n",
       "      <td>0</td>\n",
       "      <td>8.6625</td>\n",
       "      <td>S</td>\n",
       "      <td>0</td>\n",
       "    </tr>\n",
       "  </tbody>\n",
       "</table>\n",
       "<p>712 rows × 8 columns</p>\n",
       "</div>"
      ],
      "text/plain": [
       "     Pclass     Sex   Age  SibSp  Parch      Fare Embarked  Survived\n",
       "0         1    male   NaN      0      0   30.5000        S         1\n",
       "1         3  female  27.0      0      2   11.1333        S         1\n",
       "2         2    male   NaN      0      0    0.0000        S         0\n",
       "3         3  female   9.0      4      2   31.2750        S         0\n",
       "4         1  female  48.0      1      0   39.6000        C         1\n",
       "..      ...     ...   ...    ...    ...       ...      ...       ...\n",
       "707       3    male  19.0      0      0   14.5000        S         0\n",
       "708       2    male  18.0      0      0   11.5000        S         0\n",
       "709       1    male  17.0      0      2  110.8833        C         1\n",
       "710       3    male  28.5      0      0    7.2292        C         0\n",
       "711       3  female  20.0      0      0    8.6625        S         0\n",
       "\n",
       "[712 rows x 8 columns]"
      ]
     },
     "execution_count": 59,
     "metadata": {},
     "output_type": "execute_result"
    }
   ],
   "source": [
    "df_train.drop(['Cabin', 'PassengerId', 'Name','Ticket'], axis=1,inplace=True )\n",
    "df_train"
   ]
  },
  {
   "cell_type": "code",
   "execution_count": 60,
   "metadata": {},
   "outputs": [
    {
     "data": {
      "text/html": [
       "<div>\n",
       "<style scoped>\n",
       "    .dataframe tbody tr th:only-of-type {\n",
       "        vertical-align: middle;\n",
       "    }\n",
       "\n",
       "    .dataframe tbody tr th {\n",
       "        vertical-align: top;\n",
       "    }\n",
       "\n",
       "    .dataframe thead th {\n",
       "        text-align: right;\n",
       "    }\n",
       "</style>\n",
       "<table border=\"1\" class=\"dataframe\">\n",
       "  <thead>\n",
       "    <tr style=\"text-align: right;\">\n",
       "      <th></th>\n",
       "      <th>Pclass</th>\n",
       "      <th>Sex</th>\n",
       "      <th>Age</th>\n",
       "      <th>SibSp</th>\n",
       "      <th>Parch</th>\n",
       "      <th>Fare</th>\n",
       "      <th>Embarked</th>\n",
       "      <th>Survived</th>\n",
       "    </tr>\n",
       "  </thead>\n",
       "  <tbody>\n",
       "    <tr>\n",
       "      <th>0</th>\n",
       "      <td>1</td>\n",
       "      <td>male</td>\n",
       "      <td>29.811847</td>\n",
       "      <td>0</td>\n",
       "      <td>0</td>\n",
       "      <td>30.5000</td>\n",
       "      <td>S</td>\n",
       "      <td>1</td>\n",
       "    </tr>\n",
       "    <tr>\n",
       "      <th>1</th>\n",
       "      <td>3</td>\n",
       "      <td>female</td>\n",
       "      <td>27.000000</td>\n",
       "      <td>0</td>\n",
       "      <td>2</td>\n",
       "      <td>11.1333</td>\n",
       "      <td>S</td>\n",
       "      <td>1</td>\n",
       "    </tr>\n",
       "    <tr>\n",
       "      <th>2</th>\n",
       "      <td>2</td>\n",
       "      <td>male</td>\n",
       "      <td>29.811847</td>\n",
       "      <td>0</td>\n",
       "      <td>0</td>\n",
       "      <td>0.0000</td>\n",
       "      <td>S</td>\n",
       "      <td>0</td>\n",
       "    </tr>\n",
       "    <tr>\n",
       "      <th>3</th>\n",
       "      <td>3</td>\n",
       "      <td>female</td>\n",
       "      <td>9.000000</td>\n",
       "      <td>4</td>\n",
       "      <td>2</td>\n",
       "      <td>31.2750</td>\n",
       "      <td>S</td>\n",
       "      <td>0</td>\n",
       "    </tr>\n",
       "    <tr>\n",
       "      <th>4</th>\n",
       "      <td>1</td>\n",
       "      <td>female</td>\n",
       "      <td>48.000000</td>\n",
       "      <td>1</td>\n",
       "      <td>0</td>\n",
       "      <td>39.6000</td>\n",
       "      <td>C</td>\n",
       "      <td>1</td>\n",
       "    </tr>\n",
       "    <tr>\n",
       "      <th>...</th>\n",
       "      <td>...</td>\n",
       "      <td>...</td>\n",
       "      <td>...</td>\n",
       "      <td>...</td>\n",
       "      <td>...</td>\n",
       "      <td>...</td>\n",
       "      <td>...</td>\n",
       "      <td>...</td>\n",
       "    </tr>\n",
       "    <tr>\n",
       "      <th>707</th>\n",
       "      <td>3</td>\n",
       "      <td>male</td>\n",
       "      <td>19.000000</td>\n",
       "      <td>0</td>\n",
       "      <td>0</td>\n",
       "      <td>14.5000</td>\n",
       "      <td>S</td>\n",
       "      <td>0</td>\n",
       "    </tr>\n",
       "    <tr>\n",
       "      <th>708</th>\n",
       "      <td>2</td>\n",
       "      <td>male</td>\n",
       "      <td>18.000000</td>\n",
       "      <td>0</td>\n",
       "      <td>0</td>\n",
       "      <td>11.5000</td>\n",
       "      <td>S</td>\n",
       "      <td>0</td>\n",
       "    </tr>\n",
       "    <tr>\n",
       "      <th>709</th>\n",
       "      <td>1</td>\n",
       "      <td>male</td>\n",
       "      <td>17.000000</td>\n",
       "      <td>0</td>\n",
       "      <td>2</td>\n",
       "      <td>110.8833</td>\n",
       "      <td>C</td>\n",
       "      <td>1</td>\n",
       "    </tr>\n",
       "    <tr>\n",
       "      <th>710</th>\n",
       "      <td>3</td>\n",
       "      <td>male</td>\n",
       "      <td>28.500000</td>\n",
       "      <td>0</td>\n",
       "      <td>0</td>\n",
       "      <td>7.2292</td>\n",
       "      <td>C</td>\n",
       "      <td>0</td>\n",
       "    </tr>\n",
       "    <tr>\n",
       "      <th>711</th>\n",
       "      <td>3</td>\n",
       "      <td>female</td>\n",
       "      <td>20.000000</td>\n",
       "      <td>0</td>\n",
       "      <td>0</td>\n",
       "      <td>8.6625</td>\n",
       "      <td>S</td>\n",
       "      <td>0</td>\n",
       "    </tr>\n",
       "  </tbody>\n",
       "</table>\n",
       "<p>712 rows × 8 columns</p>\n",
       "</div>"
      ],
      "text/plain": [
       "     Pclass     Sex        Age  SibSp  Parch      Fare Embarked  Survived\n",
       "0         1    male  29.811847      0      0   30.5000        S         1\n",
       "1         3  female  27.000000      0      2   11.1333        S         1\n",
       "2         2    male  29.811847      0      0    0.0000        S         0\n",
       "3         3  female   9.000000      4      2   31.2750        S         0\n",
       "4         1  female  48.000000      1      0   39.6000        C         1\n",
       "..      ...     ...        ...    ...    ...       ...      ...       ...\n",
       "707       3    male  19.000000      0      0   14.5000        S         0\n",
       "708       2    male  18.000000      0      0   11.5000        S         0\n",
       "709       1    male  17.000000      0      2  110.8833        C         1\n",
       "710       3    male  28.500000      0      0    7.2292        C         0\n",
       "711       3  female  20.000000      0      0    8.6625        S         0\n",
       "\n",
       "[712 rows x 8 columns]"
      ]
     },
     "execution_count": 60,
     "metadata": {},
     "output_type": "execute_result"
    }
   ],
   "source": [
    "df_train['Age'] = df_train['Age'].fillna(df_train['Age'].mean())\n",
    "df_train"
   ]
  },
  {
   "cell_type": "code",
   "execution_count": 61,
   "metadata": {},
   "outputs": [
    {
     "data": {
      "text/plain": [
       "Pclass      0\n",
       "Sex         0\n",
       "Age         0\n",
       "SibSp       0\n",
       "Parch       0\n",
       "Fare        0\n",
       "Embarked    0\n",
       "Survived    0\n",
       "dtype: int64"
      ]
     },
     "execution_count": 61,
     "metadata": {},
     "output_type": "execute_result"
    }
   ],
   "source": [
    "df_train.dropna(inplace=True)\n",
    "df_train.isnull().sum()"
   ]
  },
  {
   "cell_type": "code",
   "execution_count": 62,
   "metadata": {},
   "outputs": [
    {
     "data": {
      "text/html": [
       "<div>\n",
       "<style scoped>\n",
       "    .dataframe tbody tr th:only-of-type {\n",
       "        vertical-align: middle;\n",
       "    }\n",
       "\n",
       "    .dataframe tbody tr th {\n",
       "        vertical-align: top;\n",
       "    }\n",
       "\n",
       "    .dataframe thead th {\n",
       "        text-align: right;\n",
       "    }\n",
       "</style>\n",
       "<table border=\"1\" class=\"dataframe\">\n",
       "  <thead>\n",
       "    <tr style=\"text-align: right;\">\n",
       "      <th></th>\n",
       "      <th>Pclass</th>\n",
       "      <th>Sex</th>\n",
       "      <th>Age</th>\n",
       "      <th>SibSp</th>\n",
       "      <th>Parch</th>\n",
       "      <th>Fare</th>\n",
       "      <th>Embarked</th>\n",
       "    </tr>\n",
       "  </thead>\n",
       "  <tbody>\n",
       "    <tr>\n",
       "      <th>0</th>\n",
       "      <td>1</td>\n",
       "      <td>male</td>\n",
       "      <td>29.811847</td>\n",
       "      <td>0</td>\n",
       "      <td>0</td>\n",
       "      <td>30.5000</td>\n",
       "      <td>S</td>\n",
       "    </tr>\n",
       "    <tr>\n",
       "      <th>1</th>\n",
       "      <td>3</td>\n",
       "      <td>female</td>\n",
       "      <td>27.000000</td>\n",
       "      <td>0</td>\n",
       "      <td>2</td>\n",
       "      <td>11.1333</td>\n",
       "      <td>S</td>\n",
       "    </tr>\n",
       "    <tr>\n",
       "      <th>2</th>\n",
       "      <td>2</td>\n",
       "      <td>male</td>\n",
       "      <td>29.811847</td>\n",
       "      <td>0</td>\n",
       "      <td>0</td>\n",
       "      <td>0.0000</td>\n",
       "      <td>S</td>\n",
       "    </tr>\n",
       "    <tr>\n",
       "      <th>3</th>\n",
       "      <td>3</td>\n",
       "      <td>female</td>\n",
       "      <td>9.000000</td>\n",
       "      <td>4</td>\n",
       "      <td>2</td>\n",
       "      <td>31.2750</td>\n",
       "      <td>S</td>\n",
       "    </tr>\n",
       "    <tr>\n",
       "      <th>4</th>\n",
       "      <td>1</td>\n",
       "      <td>female</td>\n",
       "      <td>48.000000</td>\n",
       "      <td>1</td>\n",
       "      <td>0</td>\n",
       "      <td>39.6000</td>\n",
       "      <td>C</td>\n",
       "    </tr>\n",
       "    <tr>\n",
       "      <th>...</th>\n",
       "      <td>...</td>\n",
       "      <td>...</td>\n",
       "      <td>...</td>\n",
       "      <td>...</td>\n",
       "      <td>...</td>\n",
       "      <td>...</td>\n",
       "      <td>...</td>\n",
       "    </tr>\n",
       "    <tr>\n",
       "      <th>707</th>\n",
       "      <td>3</td>\n",
       "      <td>male</td>\n",
       "      <td>19.000000</td>\n",
       "      <td>0</td>\n",
       "      <td>0</td>\n",
       "      <td>14.5000</td>\n",
       "      <td>S</td>\n",
       "    </tr>\n",
       "    <tr>\n",
       "      <th>708</th>\n",
       "      <td>2</td>\n",
       "      <td>male</td>\n",
       "      <td>18.000000</td>\n",
       "      <td>0</td>\n",
       "      <td>0</td>\n",
       "      <td>11.5000</td>\n",
       "      <td>S</td>\n",
       "    </tr>\n",
       "    <tr>\n",
       "      <th>709</th>\n",
       "      <td>1</td>\n",
       "      <td>male</td>\n",
       "      <td>17.000000</td>\n",
       "      <td>0</td>\n",
       "      <td>2</td>\n",
       "      <td>110.8833</td>\n",
       "      <td>C</td>\n",
       "    </tr>\n",
       "    <tr>\n",
       "      <th>710</th>\n",
       "      <td>3</td>\n",
       "      <td>male</td>\n",
       "      <td>28.500000</td>\n",
       "      <td>0</td>\n",
       "      <td>0</td>\n",
       "      <td>7.2292</td>\n",
       "      <td>C</td>\n",
       "    </tr>\n",
       "    <tr>\n",
       "      <th>711</th>\n",
       "      <td>3</td>\n",
       "      <td>female</td>\n",
       "      <td>20.000000</td>\n",
       "      <td>0</td>\n",
       "      <td>0</td>\n",
       "      <td>8.6625</td>\n",
       "      <td>S</td>\n",
       "    </tr>\n",
       "  </tbody>\n",
       "</table>\n",
       "<p>710 rows × 7 columns</p>\n",
       "</div>"
      ],
      "text/plain": [
       "     Pclass     Sex        Age  SibSp  Parch      Fare Embarked\n",
       "0         1    male  29.811847      0      0   30.5000        S\n",
       "1         3  female  27.000000      0      2   11.1333        S\n",
       "2         2    male  29.811847      0      0    0.0000        S\n",
       "3         3  female   9.000000      4      2   31.2750        S\n",
       "4         1  female  48.000000      1      0   39.6000        C\n",
       "..      ...     ...        ...    ...    ...       ...      ...\n",
       "707       3    male  19.000000      0      0   14.5000        S\n",
       "708       2    male  18.000000      0      0   11.5000        S\n",
       "709       1    male  17.000000      0      2  110.8833        C\n",
       "710       3    male  28.500000      0      0    7.2292        C\n",
       "711       3  female  20.000000      0      0    8.6625        S\n",
       "\n",
       "[710 rows x 7 columns]"
      ]
     },
     "execution_count": 62,
     "metadata": {},
     "output_type": "execute_result"
    }
   ],
   "source": [
    "X_train = df_train.drop(['Survived'], axis=1)\n",
    "X_train"
   ]
  },
  {
   "cell_type": "code",
   "execution_count": 63,
   "metadata": {},
   "outputs": [
    {
     "data": {
      "text/plain": [
       "0      1\n",
       "1      1\n",
       "2      0\n",
       "3      0\n",
       "4      1\n",
       "      ..\n",
       "707    0\n",
       "708    0\n",
       "709    1\n",
       "710    0\n",
       "711    0\n",
       "Name: Survived, Length: 710, dtype: int64"
      ]
     },
     "execution_count": 63,
     "metadata": {},
     "output_type": "execute_result"
    }
   ],
   "source": [
    "y_train = df_train['Survived']\n",
    "y_train"
   ]
  },
  {
   "cell_type": "code",
   "execution_count": 64,
   "metadata": {},
   "outputs": [],
   "source": [
    "X_test = df_test.drop(['Survived'], axis=1)\n",
    "y_test = df_test['Survived']"
   ]
  },
  {
   "cell_type": "markdown",
   "metadata": {},
   "source": [
    "ii.\tData Visualization (4 points)\n",
    "1.\tUsing matplotlib employ a scatter plot using ‘matplotlib.pyplot.scatter’ between the age of the passengers and the price of their fare. Label the x-axis and the y-axis along with the giving the plot a title. \n",
    "\n",
    "a.\tWhat is the highest and lowest fare price?\n",
    "\n",
    "b.\tWhat are the respective mean values of these two features?\n",
    "\n",
    "c.\tWhat was the age of the oldest passenger?\n",
    "\n",
    "\n"
   ]
  },
  {
   "cell_type": "code",
   "execution_count": 65,
   "metadata": {},
   "outputs": [
    {
     "data": {
      "image/png": "[encoded data removed]",
      "text/plain": [
       "<Figure size 640x480 with 1 Axes>"
      ]
     },
     "metadata": {},
     "output_type": "display_data"
    }
   ],
   "source": [
    "plt.scatter(X_train['Age'], X_train['Fare'], alpha=0.5)\n",
    "plt.xlabel('Age of the passengers')\n",
    "plt.ylabel('Fare price')\n",
    "plt.title(\"scatter plot of age and fare\")\n",
    "plt.show()"
   ]
  },
  {
   "cell_type": "code",
   "execution_count": 66,
   "metadata": {},
   "outputs": [
    {
     "name": "stdout",
     "output_type": "stream",
     "text": [
      "The highest fare price is:  512.3292 and lowest fare price is  0.0\n"
     ]
    }
   ],
   "source": [
    "print('The highest fare price is: ',max( X_train['Fare']) , 'and lowest fare price is ', min(X_train['Fare']))"
   ]
  },
  {
   "cell_type": "code",
   "execution_count": 67,
   "metadata": {},
   "outputs": [
    {
     "name": "stdout",
     "output_type": "stream",
     "text": [
      "The mean of fare price is:  32.52509295774648 and mean of age is  29.75497865240222\n"
     ]
    }
   ],
   "source": [
    "from statistics import mean \n",
    "print('The mean of fare price is: ',mean( X_train['Fare']) , 'and mean of age is ', mean(X_train['Age']))"
   ]
  },
  {
   "cell_type": "code",
   "execution_count": 68,
   "metadata": {},
   "outputs": [
    {
     "name": "stdout",
     "output_type": "stream",
     "text": [
      "The age of the oldest passenger is : 80.0\n"
     ]
    }
   ],
   "source": [
    "print('The age of the oldest passenger is :', max(X_train['Age']))"
   ]
  },
  {
   "cell_type": "markdown",
   "metadata": {},
   "source": [
    "2.\tOnly for this question use the df_train dataframe. Using matplotlib visualize the number of males and females that survived and their respective passenger classes on two separate bar chart plots using ‘matplotlib.pyplot.bar’ (Passenger Class column).\n",
    "\n",
    "\n"
   ]
  },
  {
   "cell_type": "code",
   "execution_count": 69,
   "metadata": {},
   "outputs": [
    {
     "data": {
      "image/png": "[encoded data removed]",
      "text/plain": [
       "<Figure size 640x480 with 1 Axes>"
      ]
     },
     "metadata": {},
     "output_type": "display_data"
    }
   ],
   "source": [
    "survived = df_train[df_train['Survived'] == 1]\n",
    "males = survived[survived['Sex'] == 'male']\n",
    "class_1 = len(males[males['Pclass'] == 1])\n",
    "class_2 = len(males[males['Pclass'] == 2])\n",
    "class_3 = len(males[males['Pclass'] == 3])\n",
    "\n",
    "plt.bar(np.arange(3), [class_1, class_2, class_3], align='center')\n",
    "plt.xticks(np.arange(3), ['1st Class', '2nd Class', '3rd Class'])\n",
    "plt.ylabel('Number of Male Survivors')\n",
    "plt.xlabel('Passenger Class')\n",
    "plt.title('Male Survival by Passenger Class')\n",
    "\n",
    "plt.show()"
   ]
  },
  {
   "cell_type": "code",
   "execution_count": 70,
   "metadata": {},
   "outputs": [
    {
     "data": {
      "image/png": "[encoded data removed]",
      "text/plain": [
       "<Figure size 640x480 with 1 Axes>"
      ]
     },
     "metadata": {},
     "output_type": "display_data"
    }
   ],
   "source": [
    "survived = df_train[df_train['Survived'] == 1]\n",
    "females = survived[survived['Sex'] == 'female']\n",
    "class_1 = len(females[females['Pclass'] == 1])\n",
    "class_2 = len(females[females['Pclass'] == 2])\n",
    "class_3 = len(females[females['Pclass'] == 3])\n",
    "\n",
    "\n",
    "plt.bar(np.arange(3), [class_1, class_2, class_3], align='center')\n",
    "plt.xticks(np.arange(3), ['1st Class', '2nd Class', '3rd Class'])\n",
    "plt.ylabel('Number of Female Survivors')\n",
    "plt.xlabel('Passenger Class')\n",
    "plt.title('Female Survival by Passenger Class')\n",
    "\n",
    "plt.show()"
   ]
  },
  {
   "cell_type": "markdown",
   "metadata": {},
   "source": [
    "a.\tWhich class of passengers had the least number of survived males and how many? Repeat this analysis for females.\n",
    "\n",
    "b.\tWhich class of passengers  had the greatest number of survived males and how many? Repeat this for females."
   ]
  },
  {
   "cell_type": "code",
   "execution_count": 71,
   "metadata": {},
   "outputs": [
    {
     "name": "stdout",
     "output_type": "stream",
     "text": [
      "The class with the least number of survived males is 2nd Class with 15 survivors.\n",
      "The class with the greatest number of survived males is 1st Class with 42 survivors.\n"
     ]
    }
   ],
   "source": [
    "class_1 = len(males[males['Pclass'] == 1])\n",
    "class_2 = len(males[males['Pclass'] == 2])\n",
    "class_3 = len(males[males['Pclass'] == 3])\n",
    "min_survived = min([class_1, class_2, class_3])\n",
    "least_class = None\n",
    "if min_survived == class_1:\n",
    "    least_class = '1st Class'\n",
    "elif min_survived == class_2:\n",
    "    least_class = '2nd Class'\n",
    "else:\n",
    "    least_class = '3rd Class'\n",
    "\n",
    "print(f'The class with the least number of survived males is {least_class} with {min_survived} survivors.')\n",
    "\n",
    "max_survived = max([class_1, class_2, class_3])\n",
    "greatest_class = None\n",
    "if max_survived == class_1:\n",
    "    greatest_class = '1st Class'\n",
    "elif max_survived == class_2:\n",
    "    greatest_class = '2nd Class'\n",
    "else:\n",
    "    greatest_class = '3rd Class'\n",
    "\n",
    "# Print results\n",
    "print(f'The class with the greatest number of survived males is {greatest_class} with {max_survived} survivors.')"
   ]
  },
  {
   "cell_type": "code",
   "execution_count": 72,
   "metadata": {},
   "outputs": [
    {
     "name": "stdout",
     "output_type": "stream",
     "text": [
      "The class with the least number of survived females is 2nd Class with 50 survivors.\n",
      "The class with the greatest number of survived females is 1st Class with 74 survivors.\n"
     ]
    }
   ],
   "source": [
    "class_1 = len(females[females['Pclass'] == 1])\n",
    "class_2 = len(females[females['Pclass'] == 2])\n",
    "class_3 = len(females[females['Pclass'] == 3])\n",
    "min_survived = min([class_1, class_2, class_3])\n",
    "least_class = None\n",
    "if min_survived == class_1:\n",
    "    least_class = '1st Class'\n",
    "elif min_survived == class_2:\n",
    "    least_class = '2nd Class'\n",
    "else:\n",
    "    least_class = '3rd Class'\n",
    "\n",
    "# Print results\n",
    "print(f'The class with the least number of survived females is {least_class} with {min_survived} survivors.')\n",
    "\n",
    "max_survived = max([class_1, class_2, class_3])\n",
    "greatest_class = None\n",
    "if max_survived == class_1:\n",
    "    greatest_class = '1st Class'\n",
    "elif max_survived == class_2:\n",
    "    greatest_class = '2nd Class'\n",
    "else:\n",
    "    greatest_class = '3rd Class'\n",
    "\n",
    "# Print results\n",
    "print(f'The class with the greatest number of survived females is {greatest_class} with {max_survived} survivors.')"
   ]
  },
  {
   "cell_type": "markdown",
   "metadata": {},
   "source": [
    "3.\tUsing the Target variable (Survived) in y_train plot a bar chart showing the distribution of the ‘Survived’ column.\n",
    "\n",
    "a.\tWhat initial comment can you make about this distribution in terms of the frequency of each class?\n"
   ]
  },
  {
   "cell_type": "code",
   "execution_count": 73,
   "metadata": {},
   "outputs": [
    {
     "data": {
      "image/png": "[encoded data removed]",
      "text/plain": [
       "<Figure size 640x480 with 1 Axes>"
      ]
     },
     "metadata": {},
     "output_type": "display_data"
    }
   ],
   "source": [
    "survived = len(y_train[y_train == 1])\n",
    "not_survived = len(y_train[y_train == 0])\n",
    "\n",
    "plt.bar(np.arange(2), [survived, not_survived], align='center')\n",
    "plt.xticks(np.arange(2), ['Survived', 'Not Survived'])\n",
    "plt.ylabel('Number of Passengers')\n",
    "plt.xlabel('Survival Status')\n",
    "plt.title('Distribution of Survival Status')\n",
    "\n",
    "# Show plot\n",
    "plt.show()"
   ]
  },
  {
   "cell_type": "markdown",
   "metadata": {},
   "source": [
    "We can see that people who not survived are more than people who survived. Females and 1st class have higher survival rate, and 2nd class has least survival rate."
   ]
  },
  {
   "cell_type": "markdown",
   "metadata": {},
   "source": [
    "4.\tSo far you should have successfully been able to load, preprocess and visualize your data. Use the ‘pd.get_dummies()’ function to convert categorical data into dummy variables (‘Sex’ and ‘Embarked’). (Perform this only on X_train store the result back into X_train).\n",
    "\n",
    "a.\tWhat is the new shape of X?\n"
   ]
  },
  {
   "cell_type": "code",
   "execution_count": 74,
   "metadata": {},
   "outputs": [
    {
     "name": "stdout",
     "output_type": "stream",
     "text": [
      "The new shape of X_train is: (710, 8)\n"
     ]
    },
    {
     "data": {
      "text/html": [
       "<div>\n",
       "<style scoped>\n",
       "    .dataframe tbody tr th:only-of-type {\n",
       "        vertical-align: middle;\n",
       "    }\n",
       "\n",
       "    .dataframe tbody tr th {\n",
       "        vertical-align: top;\n",
       "    }\n",
       "\n",
       "    .dataframe thead th {\n",
       "        text-align: right;\n",
       "    }\n",
       "</style>\n",
       "<table border=\"1\" class=\"dataframe\">\n",
       "  <thead>\n",
       "    <tr style=\"text-align: right;\">\n",
       "      <th></th>\n",
       "      <th>Pclass</th>\n",
       "      <th>Age</th>\n",
       "      <th>SibSp</th>\n",
       "      <th>Parch</th>\n",
       "      <th>Fare</th>\n",
       "      <th>Sex_male</th>\n",
       "      <th>Embarked_Q</th>\n",
       "      <th>Embarked_S</th>\n",
       "    </tr>\n",
       "  </thead>\n",
       "  <tbody>\n",
       "    <tr>\n",
       "      <th>0</th>\n",
       "      <td>1</td>\n",
       "      <td>29.811847</td>\n",
       "      <td>0</td>\n",
       "      <td>0</td>\n",
       "      <td>30.5000</td>\n",
       "      <td>1</td>\n",
       "      <td>0</td>\n",
       "      <td>1</td>\n",
       "    </tr>\n",
       "    <tr>\n",
       "      <th>1</th>\n",
       "      <td>3</td>\n",
       "      <td>27.000000</td>\n",
       "      <td>0</td>\n",
       "      <td>2</td>\n",
       "      <td>11.1333</td>\n",
       "      <td>0</td>\n",
       "      <td>0</td>\n",
       "      <td>1</td>\n",
       "    </tr>\n",
       "    <tr>\n",
       "      <th>2</th>\n",
       "      <td>2</td>\n",
       "      <td>29.811847</td>\n",
       "      <td>0</td>\n",
       "      <td>0</td>\n",
       "      <td>0.0000</td>\n",
       "      <td>1</td>\n",
       "      <td>0</td>\n",
       "      <td>1</td>\n",
       "    </tr>\n",
       "    <tr>\n",
       "      <th>3</th>\n",
       "      <td>3</td>\n",
       "      <td>9.000000</td>\n",
       "      <td>4</td>\n",
       "      <td>2</td>\n",
       "      <td>31.2750</td>\n",
       "      <td>0</td>\n",
       "      <td>0</td>\n",
       "      <td>1</td>\n",
       "    </tr>\n",
       "    <tr>\n",
       "      <th>4</th>\n",
       "      <td>1</td>\n",
       "      <td>48.000000</td>\n",
       "      <td>1</td>\n",
       "      <td>0</td>\n",
       "      <td>39.6000</td>\n",
       "      <td>0</td>\n",
       "      <td>0</td>\n",
       "      <td>0</td>\n",
       "    </tr>\n",
       "    <tr>\n",
       "      <th>...</th>\n",
       "      <td>...</td>\n",
       "      <td>...</td>\n",
       "      <td>...</td>\n",
       "      <td>...</td>\n",
       "      <td>...</td>\n",
       "      <td>...</td>\n",
       "      <td>...</td>\n",
       "      <td>...</td>\n",
       "    </tr>\n",
       "    <tr>\n",
       "      <th>707</th>\n",
       "      <td>3</td>\n",
       "      <td>19.000000</td>\n",
       "      <td>0</td>\n",
       "      <td>0</td>\n",
       "      <td>14.5000</td>\n",
       "      <td>1</td>\n",
       "      <td>0</td>\n",
       "      <td>1</td>\n",
       "    </tr>\n",
       "    <tr>\n",
       "      <th>708</th>\n",
       "      <td>2</td>\n",
       "      <td>18.000000</td>\n",
       "      <td>0</td>\n",
       "      <td>0</td>\n",
       "      <td>11.5000</td>\n",
       "      <td>1</td>\n",
       "      <td>0</td>\n",
       "      <td>1</td>\n",
       "    </tr>\n",
       "    <tr>\n",
       "      <th>709</th>\n",
       "      <td>1</td>\n",
       "      <td>17.000000</td>\n",
       "      <td>0</td>\n",
       "      <td>2</td>\n",
       "      <td>110.8833</td>\n",
       "      <td>1</td>\n",
       "      <td>0</td>\n",
       "      <td>0</td>\n",
       "    </tr>\n",
       "    <tr>\n",
       "      <th>710</th>\n",
       "      <td>3</td>\n",
       "      <td>28.500000</td>\n",
       "      <td>0</td>\n",
       "      <td>0</td>\n",
       "      <td>7.2292</td>\n",
       "      <td>1</td>\n",
       "      <td>0</td>\n",
       "      <td>0</td>\n",
       "    </tr>\n",
       "    <tr>\n",
       "      <th>711</th>\n",
       "      <td>3</td>\n",
       "      <td>20.000000</td>\n",
       "      <td>0</td>\n",
       "      <td>0</td>\n",
       "      <td>8.6625</td>\n",
       "      <td>0</td>\n",
       "      <td>0</td>\n",
       "      <td>1</td>\n",
       "    </tr>\n",
       "  </tbody>\n",
       "</table>\n",
       "<p>710 rows × 8 columns</p>\n",
       "</div>"
      ],
      "text/plain": [
       "     Pclass        Age  SibSp  Parch      Fare  Sex_male  Embarked_Q  \\\n",
       "0         1  29.811847      0      0   30.5000         1           0   \n",
       "1         3  27.000000      0      2   11.1333         0           0   \n",
       "2         2  29.811847      0      0    0.0000         1           0   \n",
       "3         3   9.000000      4      2   31.2750         0           0   \n",
       "4         1  48.000000      1      0   39.6000         0           0   \n",
       "..      ...        ...    ...    ...       ...       ...         ...   \n",
       "707       3  19.000000      0      0   14.5000         1           0   \n",
       "708       2  18.000000      0      0   11.5000         1           0   \n",
       "709       1  17.000000      0      2  110.8833         1           0   \n",
       "710       3  28.500000      0      0    7.2292         1           0   \n",
       "711       3  20.000000      0      0    8.6625         0           0   \n",
       "\n",
       "     Embarked_S  \n",
       "0             1  \n",
       "1             1  \n",
       "2             1  \n",
       "3             1  \n",
       "4             0  \n",
       "..          ...  \n",
       "707           1  \n",
       "708           1  \n",
       "709           0  \n",
       "710           0  \n",
       "711           1  \n",
       "\n",
       "[710 rows x 8 columns]"
      ]
     },
     "execution_count": 74,
     "metadata": {},
     "output_type": "execute_result"
    }
   ],
   "source": [
    "# Convert categorical data to dummy variables\n",
    "X_train = pd.get_dummies(X_train, columns=['Sex', 'Embarked'], drop_first=True)\n",
    "\n",
    "# Print new shape of X_train\n",
    "print(f'The new shape of X_train is: {X_train.shape}')\n",
    "X_train"
   ]
  },
  {
   "cell_type": "markdown",
   "metadata": {},
   "source": [
    "# iii.\tData Scaling (2 points)\n",
    "1.\tEmploy X_train and MinMaxScaler only on the continuous attributes. Employ the ‘fit_transform()’ function of the scaler to retrieve the new (scaled) version of the data. Store the scaled values in X_train again.\n"
   ]
  },
  {
   "cell_type": "code",
   "execution_count": 75,
   "metadata": {},
   "outputs": [],
   "source": [
    "from sklearn.preprocessing import MinMaxScaler\n",
    "\n",
    "continuous_attributes = ['Age', 'SibSp', 'Parch', 'Fare']\n",
    "\n",
    "# Create scaler\n",
    "scaler = MinMaxScaler()\n",
    "\n",
    "# Scale continuous attributes\n",
    "X_train[continuous_attributes] = scaler.fit_transform(X_train[continuous_attributes])"
   ]
  },
  {
   "cell_type": "markdown",
   "metadata": {},
   "source": [
    "2. Scale the X_test using the scaler you have just fit, this time using the `transform()` function. Note: store the scaled values back into X_test.  At the end of this step, you must have X_train, X_test, all scaled according to the MinMaxScaler."
   ]
  },
  {
   "cell_type": "code",
   "execution_count": 76,
   "metadata": {},
   "outputs": [],
   "source": [
    "X_test[continuous_attributes] = scaler.transform(X_test[continuous_attributes])"
   ]
  },
  {
   "cell_type": "code",
   "execution_count": 77,
   "metadata": {},
   "outputs": [
    {
     "data": {
      "text/plain": [
       "(179, 8)"
      ]
     },
     "execution_count": 77,
     "metadata": {},
     "output_type": "execute_result"
    }
   ],
   "source": [
    "X_test.shape"
   ]
  },
  {
   "cell_type": "markdown",
   "metadata": {},
   "source": [
    "# c.\tModelling (10 points)\n",
    "# i.\t(2 points) Modelling (Model Instantiation / Training) using Logistic Regression classifier\n",
    "1.\tEmploy the Logistic Regression classifier from sklearn and instantiate the model. Label this model as ‘model_lr’\n",
    "\n",
    "2.\tOnce instantiated, `fit()` the model using the scaled X_train, y_train data.\n",
    "\n",
    "3.\tEmploy the `predict()` function to obtain predictions on X_test and store this in a variable labeled as ‘y_pred_lr’.\n",
    "\n",
    "4.\tEmploy the ‘accuracy_score’ function by using the ‘y_pred_lr’ and ‘y_test’ variables as the functions parameters and print the accuracy of the Logistic Regression model.\n"
   ]
  },
  {
   "cell_type": "code",
   "execution_count": 78,
   "metadata": {},
   "outputs": [
    {
     "name": "stdout",
     "output_type": "stream",
     "text": [
      "The accuracy of the Logistic Regression model is: 0.8827\n"
     ]
    }
   ],
   "source": [
    "from sklearn.linear_model import LogisticRegression\n",
    "from sklearn.metrics import accuracy_score\n",
    "\n",
    "# Instantiate model\n",
    "model_lr = LogisticRegression()\n",
    "\n",
    "# Fit model to training data\n",
    "model_lr.fit(X_train, y_train)\n",
    "\n",
    "# Make predictions on test data\n",
    "y_pred_lr = model_lr.predict(X_test)\n",
    "\n",
    "# Calculate and print accuracy\n",
    "accuracy = accuracy_score(y_test, y_pred_lr)\n",
    "print(f'The accuracy of the Logistic Regression model is: {accuracy:.4f}')"
   ]
  },
  {
   "cell_type": "markdown",
   "metadata": {},
   "source": [
    "# ii.\t(2 points) Modelling (Model Instantiation / Training) using Support Vector Machine Classifier\n",
    "1.\tEmploy the Support Vector Machine (SVM) classifier from sklearn () and instantiate the model. Label this model as ‘model_svm’\n",
    "\n",
    "2.\tOnce instantiated, ‘fit()’ the model using the scaled X_train, y_train data.\n",
    "\n",
    "3.\tEmploy the ‘predict()’ function to obtain predictions on X_test and store this in a variable labeled as ‘y_pred_svm’. \n",
    "\n",
    "4.\tEmploy the ‘accuracy_score’ function by using the ‘y_pred_svm’ and ‘y_test’ variables as the functions parameters and print the accuracy of the SVM model.and print the accuracy of the SVM model.\n"
   ]
  },
  {
   "cell_type": "code",
   "execution_count": 80,
   "metadata": {},
   "outputs": [
    {
     "name": "stdout",
     "output_type": "stream",
     "text": [
      "0.8659217877094972\n"
     ]
    }
   ],
   "source": [
    "from sklearn.svm import SVC\n",
    "\n",
    "model_svm = SVC()\n",
    "\n",
    "model_svm.fit(X_train, y_train)\n",
    "y_pred_svm = model_svm.predict(X_test)\n",
    "\n",
    "# Calculate accuracy of SVM model\n",
    "print(accuracy_score(y_pred_svm, y_test))"
   ]
  },
  {
   "cell_type": "markdown",
   "metadata": {},
   "source": [
    "# iii.\t(3 points) Modelling Logistic Regression Classifier with the addition of noise on the target variable. \n",
    "In the data repository you should see three noisy datasets – ‘df_train_noise20’, ‘df_train_40’, ‘df_train_60’. These datasets have already been preprocessed. In each dataset 'df_train_noise<integer>', the integer indicates the percentage of noise injected into the target variable in that training set. The noise can be considered a result of incorrect class labelling of a particular instance. For example, in df_train_noise20, 20% of the instances have an incorrect target label in the training set. Our goal will be to train a set of classification models on such noisy training data and test on a clean test set (i.e., same as what we have been using so far  'df_test'). \n",
    "Load the 'df_train_noise<nl>' (nl means noise level and is a place holder for the integer percentage) datasets and split the data into X_train_<nl> and y_train_<nl> (e.g., if working with `df_train_noise20’ we would split the data and store it in variables named X_train_20, y_train_20). ‘X_train_<nl>’ should store the features and ‘y_train_<nl>’ should store the target variable.\n",
    "\n",
    "Repeat the following steps (1 – 4) for the 20%, 40%, 60% noise level datasets.  \n",
    "Train a new Logistic Regression model on the new training and use the pre-existing X_test and y_test to evaluate your model. Label this model as ‘model_lr_noise_<nl>’. Specifically, do the following:\n",
    "1.\tEmploy a new Logistic Regression classifier from sklearn and instantiate the model. Label this model as ‘model_lr_noise<nl>’\n",
    "\n",
    "2.\tOnce instantiated, ‘fit()’ the model using the X_train_<nl> and y_train_<nl> data.\n",
    "\n",
    "3.\tEmploy the ‘predict()’ function to obtain predictions on X_test and store this in a variable labeled as ‘y_pred_lr_noise<nl>’. \n",
    "\n",
    "4.\tEmploy the ‘accuracy_score’ function and print the accuracy of the new Logistic Regression model.\n",
    "    \n",
    "\n"
   ]
  },
  {
   "cell_type": "code",
   "execution_count": 81,
   "metadata": {},
   "outputs": [],
   "source": [
    "# Load data\n",
    "df_train_noise20 = pd.read_csv('df_train_noise20.csv')\n",
    "df_train_noise40 = pd.read_csv('df_train_noise40.csv')\n",
    "df_train_noise60 = pd.read_csv('df_train_noise60.csv')\n",
    "\n",
    "# Split data into X_train and y_train\n",
    "X_train_20 = df_train_noise20.drop(columns=['Survived'])\n",
    "y_train_20 = df_train_noise20['Survived']\n",
    "\n",
    "X_train_40 = df_train_noise40.drop(columns=['Survived'])\n",
    "y_train_40 = df_train_noise40['Survived']\n",
    "\n",
    "X_train_60 = df_train_noise60.drop(columns=['Survived'])\n",
    "y_train_60 = df_train_noise60['Survived']\n"
   ]
  },
  {
   "cell_type": "code",
   "execution_count": 83,
   "metadata": {},
   "outputs": [
    {
     "name": "stdout",
     "output_type": "stream",
     "text": [
      "Accuracy of LogisticRegression model with 20% noise: 0.7039106145251397\n",
      "Accuracy of LogisticRegression model with 40% noise: 0.6312849162011173\n",
      "Accuracy of LogisticRegression model with 60% noise: 0.39664804469273746\n"
     ]
    }
   ],
   "source": [
    "model_lr_noise_20 = LogisticRegression()\n",
    "\n",
    "# Fit model\n",
    "model_lr_noise_20.fit(X_train_20, y_train_20)\n",
    "\n",
    "# Obtain predictions on X_test\n",
    "y_pred_lr_noise_20 = model_lr_noise_20.predict(X_test)\n",
    "\n",
    "# Print accuracy of model\n",
    "print(f'Accuracy of LogisticRegression model with 20% noise: {accuracy_score(y_test, y_pred_lr_noise_20)}')\n",
    "\n",
    "model_lr_noise_40 = LogisticRegression()\n",
    "\n",
    "# Fit model on X_train_40 and y_train_40\n",
    "model_lr_noise_40.fit(X_train_40, y_train_40)\n",
    "\n",
    "# Obtain predictions on X_test\n",
    "y_pred_lr_noise_40 = model_lr_noise_40.predict(X_test)\n",
    "\n",
    "# Print accuracy of model\n",
    "print(f'Accuracy of LogisticRegression model with 40% noise: {accuracy_score(y_test, y_pred_lr_noise_40)}')\n",
    "\n",
    "model_lr_noise_60 = LogisticRegression()\n",
    "\n",
    "# Fit model on X_train_60 and y_train_60\n",
    "model_lr_noise_60.fit(X_train_60, y_train_60)\n",
    "\n",
    "# Obtain predictions on X_test\n",
    "y_pred_lr_noise_60 = model_lr_noise_60.predict(X_test)\n",
    "\n",
    "# Print accuracy of model\n",
    "print(f'Accuracy of LogisticRegression model with 60% noise: {accuracy_score(y_test, y_pred_lr_noise_60)}')\n"
   ]
  },
  {
   "cell_type": "markdown",
   "metadata": {},
   "source": [
    "a.\tWhat is your initial observation of the accuracy, is the accuracy higher or lower than that of the clean dataset?"
   ]
  },
  {
   "cell_type": "markdown",
   "metadata": {},
   "source": [
    "With the increase of noise, the accuracy decrease as well.The accuracy lower than that of the clean dataset.This suggests that noise in the training data can negatively impact the performance of the model. The more noise there is in the training data, the lower the accuracy of the model."
   ]
  },
  {
   "cell_type": "markdown",
   "metadata": {},
   "source": [
    "# iv.\t(3 points) Modelling Support Vector Machine (SVM) Classifier with the addition of noise on the target variable. \n",
    "In the data repository you should see three noisy datasets – ‘df_train_noise20’, ‘df_train_40’, ‘df_train_60’. These datasets have already been preprocessed. In each dataset 'df_train_noise<integer>, the integer indicates the percentage of noise injected into the target variable in that training set. The noise can be considered a result of incorrect class labelling of a particular instance. For example, in df_train_noise20, 20% of the instances have an incorrect target label in the training set. Our goal will be to train a set of classification models on such noisy training data and test on a clean test set (i.e., same as what we have been using so far 'df_test’). \n",
    "Load the 'df_train_noise<nl>' (nl means noise level and is a place holder for the integer percentage) datasets and split the data into X_train_<nl> and y_train_<nl> (e.g., if working with `df_train_noise20’ we would split the data and store it in variables named X_train_20, y_train_20). ‘X_train_<nl>’ should store the features and ‘y_train_<nl>’ should store the target variable.\n",
    "\n",
    "Repeat the following steps (1 – 4) for the 20%, 40%, 60% noise datasets.  \n",
    "Train a new SVM classification model on the new training and use the pre-existing X_test and y_test to evaluate your model. Label this model as ‘model_svm_noise_<nl>’.  Specifically, do the following:\n",
    "1.\tEmploy a new SVM classifier from sklearn and instantiate the model. Label this model as ‘model_svm_noise<nl>’\n",
    "\n",
    "2.\tOnce instantiated, ‘fit()’ the model using the X_train_<nl> and y_train_<nl> data.\n",
    "\n",
    "3.\tEmploy the ‘predict()’ function to obtain predictions on X_test and store this in a variable labeled as ‘y_pred_svm_noise<nl>’. \n",
    "\n",
    "4.\tEmploy the ‘accuracy_score’ function and print the accuracy of the new Logistic Regression model.\n",
    "a.\tWhat is your initial observation of the accuracy, is the accuracy higher or lower than that of the clean dataset?\n"
   ]
  },
  {
   "cell_type": "code",
   "execution_count": 84,
   "metadata": {},
   "outputs": [
    {
     "name": "stdout",
     "output_type": "stream",
     "text": [
      "Accuracy of SVM model with 20% noise: 0.6703910614525139\n",
      "Accuracy of SVM model with 40% noise: 0.6312849162011173\n",
      "Accuracy of SVM model with 60% noise: 0.7318435754189944\n"
     ]
    }
   ],
   "source": [
    "# Instantiate SVM classifier\n",
    "model_svm_noise_20 = SVC()\n",
    "model_svm_noise_40 = SVC()\n",
    "model_svm_noise_60 = SVC()\n",
    "\n",
    "\n",
    "# Fit model on X_train_20 and y_train_20\n",
    "model_svm_noise_20.fit(X_train_20, y_train_20)\n",
    "\n",
    "# Obtain predictions on X_test\n",
    "y_pred_svm_noise_20 = model_svm_noise_20.predict(X_test)\n",
    "\n",
    "# Print accuracy of model\n",
    "print(f'Accuracy of SVM model with 20% noise: {accuracy_score(y_test, y_pred_svm_noise_20)}')\n",
    "\n",
    "# Fit model on X_train_40 and y_train_40\n",
    "model_svm_noise_40.fit(X_train_40, y_train_40)\n",
    "\n",
    "# Obtain predictions on X_test\n",
    "y_pred_svm_noise_40 = model_svm_noise_40.predict(X_test)\n",
    "\n",
    "# Print accuracy of model\n",
    "print(f'Accuracy of SVM model with 40% noise: {accuracy_score(y_test, y_pred_svm_noise_40)}')\n",
    "\n",
    "# Fit model on X_train_60 and y_train_60\n",
    "model_svm_noise_60.fit(X_train_60, y_train_60)\n",
    "\n",
    "# Obtain predictions on X_test\n",
    "y_pred_svm_noise_60 = model_svm_noise_60.predict(X_test)\n",
    "\n",
    "# Print accuracy of model\n",
    "print(f'Accuracy of SVM model with 60% noise: {accuracy_score(y_test, y_pred_svm_noise_60)}')\n"
   ]
  },
  {
   "cell_type": "markdown",
   "metadata": {},
   "source": [
    "It can be observed that the accuracy of the SVM model on the noisy training data is generally lower than that of the model trained on the clean dataset. This suggests that noise in the training data can negatively impact the performance of the model. The more noise there is in the training data, the lower the accuracy of the model."
   ]
  },
  {
   "cell_type": "markdown",
   "metadata": {},
   "source": [
    "# d.\tEvaluation (5 points)\n",
    "i.\t(3 points) Report F1 Score, Precision, Recall, Accuracy (All on the test set X_test, y_test)\n",
    "1.\tEmploy a `classification_report()` function from sklearn.metrics to report the precision recall and f1 score for each class for the ‘model_lr’ model and the ‘model_svm’ along with a confusion matrix for each of them. \n",
    "\n",
    "ii.\t(2 points) Report the accuracy and classification report for each of the three noisy models (model_lr_noise<nl>, model_svm_noise<nl>).\n"
   ]
  },
  {
   "cell_type": "code",
   "execution_count": 86,
   "metadata": {},
   "outputs": [
    {
     "name": "stdout",
     "output_type": "stream",
     "text": [
      "Classification report for model_lr:\n",
      "              precision    recall  f1-score   support\n",
      "\n",
      "           0       0.90      0.92      0.91       113\n",
      "           1       0.86      0.82      0.84        66\n",
      "\n",
      "    accuracy                           0.88       179\n",
      "   macro avg       0.88      0.87      0.87       179\n",
      "weighted avg       0.88      0.88      0.88       179\n",
      "\n",
      "Confusion matrix for model_lr:\n",
      "[[104   9]\n",
      " [ 12  54]]\n",
      "Classification report for model_svm:\n",
      "              precision    recall  f1-score   support\n",
      "\n",
      "           0       0.83      0.98      0.90       113\n",
      "           1       0.96      0.67      0.79        66\n",
      "\n",
      "    accuracy                           0.87       179\n",
      "   macro avg       0.90      0.82      0.84       179\n",
      "weighted avg       0.88      0.87      0.86       179\n",
      "\n",
      "Confusion matrix for model_svm:\n",
      "[[111   2]\n",
      " [ 22  44]]\n"
     ]
    }
   ],
   "source": [
    "# Import necessary libraries\n",
    "from sklearn.metrics import classification_report\n",
    "from sklearn.metrics import confusion_matrix\n",
    "\n",
    "# Print classification report for model_lr\n",
    "print('Classification report for model_lr:')\n",
    "print(classification_report(y_test, y_pred_lr))\n",
    "\n",
    "# Print confusion matrix for model_lr\n",
    "print('Confusion matrix for model_lr:')\n",
    "print(confusion_matrix(y_test, y_pred_lr))\n",
    "\n",
    "# Print classification report for model_svm\n",
    "print('Classification report for model_svm:')\n",
    "print(classification_report(y_test, y_pred_svm))\n",
    "\n",
    "# Print confusion matrix for model_svm\n",
    "print('Confusion matrix for model_svm:')\n",
    "print(confusion_matrix(y_test, y_pred_svm))\n"
   ]
  },
  {
   "cell_type": "code",
   "execution_count": 88,
   "metadata": {},
   "outputs": [
    {
     "name": "stdout",
     "output_type": "stream",
     "text": [
      "Accuracy of model_lr_noise with 20% noise: 0.7039106145251397\n",
      "Classification report for model_lr_noise with 20% noise:\n",
      "              precision    recall  f1-score   support\n",
      "\n",
      "           0       0.68      1.00      0.81       113\n",
      "           1       1.00      0.20      0.33        66\n",
      "\n",
      "    accuracy                           0.70       179\n",
      "   macro avg       0.84      0.60      0.57       179\n",
      "weighted avg       0.80      0.70      0.63       179\n",
      "\n",
      "Accuracy of model_lr_noise with 40% noise: 0.6312849162011173\n",
      "Classification report for model_lr_noise with 40% noise:\n",
      "              precision    recall  f1-score   support\n",
      "\n",
      "           0       0.63      1.00      0.77       113\n",
      "           1       0.00      0.00      0.00        66\n",
      "\n",
      "    accuracy                           0.63       179\n",
      "   macro avg       0.32      0.50      0.39       179\n",
      "weighted avg       0.40      0.63      0.49       179\n",
      "\n",
      "Accuracy of model_lr_noise with 60% noise: 0.39664804469273746\n",
      "Classification report for model_lr_noise with 60% noise:\n",
      "              precision    recall  f1-score   support\n",
      "\n",
      "           0       0.73      0.07      0.13       113\n",
      "           1       0.38      0.95      0.54        66\n",
      "\n",
      "    accuracy                           0.40       179\n",
      "   macro avg       0.55      0.51      0.33       179\n",
      "weighted avg       0.60      0.40      0.28       179\n",
      "\n"
     ]
    }
   ],
   "source": [
    "# Print accuracy of model_lr_noise with 20% noise\n",
    "print(f'Accuracy of model_lr_noise with 20% noise: {accuracy_score(y_test, y_pred_lr_noise_20)}')\n",
    "\n",
    "# Print classification report for model_lr_noise with 20% noise\n",
    "print('Classification report for model_lr_noise with 20% noise:')\n",
    "print(classification_report(y_test, y_pred_lr_noise_20))\n",
    "\n",
    "\n",
    "# Print accuracy of model_lr_noise with 40% noise\n",
    "print(f'Accuracy of model_lr_noise with 40% noise: {accuracy_score(y_test, y_pred_lr_noise_40)}')\n",
    "\n",
    "# Print classification report for model_lr_noise with 40% noise\n",
    "print('Classification report for model_lr_noise with 40% noise:')\n",
    "print(classification_report(y_test, y_pred_lr_noise_40))\n",
    "\n",
    "\n",
    "# Print accuracy of model_lr_noise with 60% noise\n",
    "print(f'Accuracy of model_lr_noise with 60% noise: {accuracy_score(y_test, y_pred_lr_noise_60)}')\n",
    "\n",
    "# Print classification report for model_lr_noise with 40% noise\n",
    "print('Classification report for model_lr_noise with 60% noise:')\n",
    "print(classification_report(y_test, y_pred_lr_noise_60))\n"
   ]
  },
  {
   "cell_type": "code",
   "execution_count": 89,
   "metadata": {},
   "outputs": [
    {
     "name": "stdout",
     "output_type": "stream",
     "text": [
      "Accuracy of model_svm_noise with 20% noise: 0.6703910614525139\n",
      "Classification report for model_svm_noise with 20% noise:\n",
      "              precision    recall  f1-score   support\n",
      "\n",
      "           0       0.66      1.00      0.79       113\n",
      "           1       1.00      0.11      0.19        66\n",
      "\n",
      "    accuracy                           0.67       179\n",
      "   macro avg       0.83      0.55      0.49       179\n",
      "weighted avg       0.78      0.67      0.57       179\n",
      "\n",
      "Accuracy of model_svm_noise with 40% noise: 0.6312849162011173\n",
      "Classification report for model_svm_noise with 40% noise:\n",
      "              precision    recall  f1-score   support\n",
      "\n",
      "           0       0.63      1.00      0.77       113\n",
      "           1       0.00      0.00      0.00        66\n",
      "\n",
      "    accuracy                           0.63       179\n",
      "   macro avg       0.32      0.50      0.39       179\n",
      "weighted avg       0.40      0.63      0.49       179\n",
      "\n",
      "Accuracy of model_svm_noise with 60% noise: 0.7318435754189944\n",
      "Classification report for model_svm_noise with 60% noise:\n",
      "              precision    recall  f1-score   support\n",
      "\n",
      "           0       0.72      0.94      0.82       113\n",
      "           1       0.78      0.38      0.51        66\n",
      "\n",
      "    accuracy                           0.73       179\n",
      "   macro avg       0.75      0.66      0.66       179\n",
      "weighted avg       0.74      0.73      0.70       179\n",
      "\n"
     ]
    }
   ],
   "source": [
    "# Print accuracy of model_svm_noise with 20% noise\n",
    "print(f'Accuracy of model_svm_noise with 20% noise: {accuracy_score(y_test, y_pred_svm_noise_20)}')\n",
    "\n",
    "# Print classification report for model_svm_noise with 20% noise\n",
    "print('Classification report for model_svm_noise with 20% noise:')\n",
    "print(classification_report(y_test, y_pred_svm_noise_20))\n",
    "\n",
    "\n",
    "# Print accuracy of model_svm_noise with 40% noise\n",
    "print(f'Accuracy of model_svm_noise with 40% noise: {accuracy_score(y_test, y_pred_svm_noise_40)}')\n",
    "\n",
    "# Print classification report for model_svm_noise with 40% noise\n",
    "print('Classification report for model_svm_noise with 40% noise:')\n",
    "print(classification_report(y_test, y_pred_svm_noise_40))\n",
    "\n",
    "# Print accuracy of model_svm_noise with 60% noise\n",
    "print(f'Accuracy of model_svm_noise with 60% noise: {accuracy_score(y_test, y_pred_svm_noise_60)}')\n",
    "\n",
    "# Print classification report for model_svm_noise with 40% noise\n",
    "print('Classification report for model_svm_noise with 60% noise:')\n",
    "print(classification_report(y_test, y_pred_svm_noise_60))\n"
   ]
  },
  {
   "cell_type": "markdown",
   "metadata": {},
   "source": [
    "# e.\tDiscussion "
   ]
  },
  {
   "cell_type": "markdown",
   "metadata": {},
   "source": [
    "ii.\t(4 points) Report the performance of all the classification models you have trained thus far in terms of (precision, recall, F1 scores). From the results of the three noisy models implemented using Logistic Regression. What did you notice about the accuracy as the noise of the dataset increased? What can you say about the effect of noise on data mining pipelines?"
   ]
  },
  {
   "cell_type": "markdown",
   "metadata": {},
   "source": [
    "As the noise of the dataset increased, the accuracy of the model decreased. This suggests that noise in the dataset can have a negative impact on the performance of a data mining pipeline. Noise in the data can make it more difficult for the model to learn the underlying patterns in the data, resulting in lower accuracy and poorer performance. "
   ]
  },
  {
   "cell_type": "code",
   "execution_count": null,
   "metadata": {},
   "outputs": [],
   "source": []
  }
 ],
 "metadata": {
  "kernelspec": {
   "display_name": "Python 3 (ipykernel)",
   "language": "python",
   "name": "python3"
  },
  "language_info": {
   "codemirror_mode": {
    "name": "ipython",
    "version": 3
   },
   "file_extension": ".py",
   "mimetype": "text/x-python",
   "name": "python",
   "nbconvert_exporter": "python",
   "pygments_lexer": "ipython3",
   "version": "3.9.13"
  }
 },
 "nbformat": 4,
 "nbformat_minor": 2
}
